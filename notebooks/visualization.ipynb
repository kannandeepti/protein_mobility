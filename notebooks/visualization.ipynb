{
 "cells": [
  {
   "cell_type": "markdown",
   "id": "25e92436",
   "metadata": {},
   "source": [
    "# Visualize patched sphere simulations"
   ]
  },
  {
   "cell_type": "code",
   "execution_count": 2,
   "id": "d3797978",
   "metadata": {},
   "outputs": [
    {
     "data": {
      "text/plain": [
       "'/home/dkannan/git-remotes/protein_mobility'"
      ]
     },
     "execution_count": 2,
     "metadata": {},
     "output_type": "execute_result"
    }
   ],
   "source": [
    "%pwd"
   ]
  },
  {
   "cell_type": "code",
   "execution_count": 3,
   "id": "8ad164bb",
   "metadata": {},
   "outputs": [
    {
     "data": {
      "application/vnd.jupyter.widget-view+json": {
       "model_id": "e245cd8edb2d4cce83030edc85228f41",
       "version_major": 2,
       "version_minor": 0
      },
      "text/plain": []
     },
     "metadata": {},
     "output_type": "display_data"
    }
   ],
   "source": [
    "import nglutils as ngu\n",
    "import nglview as nv\n",
    "\n",
    "import os\n",
    "import sys\n",
    "from pathlib import Path\n",
    "import numpy as np\n",
    "import scipy as sp\n",
    "\n",
    "import mdtraj\n",
    "import polychrom\n",
    "from polychrom.hdf5_format import list_URIs, load_URI, load_hdf5_file"
   ]
  },
  {
   "cell_type": "code",
   "execution_count": 4,
   "id": "0f4245ec",
   "metadata": {},
   "outputs": [],
   "source": [
    "def extract_trajectory(simdir, wrap=False, start=0, end=-1, every_other=10):\n",
    "    \"\"\"Load conformations from a simulation trajectory stored in the hdf5 files in simdir.\n",
    "    \n",
    "    Parameters\n",
    "    ----------\n",
    "    simdir : str or Path\n",
    "        path to simulation directory containing .h5 files\n",
    "    start : int\n",
    "        which time block to start loading conformations from\n",
    "    end : int\n",
    "        which time block to stop loading conformations from\n",
    "    every_other : int\n",
    "        skip every_other time steps when loading conformations\n",
    "        \n",
    "    Returns\n",
    "    -------\n",
    "    X : array_like (num_t, N, 3)\n",
    "        x, y, z positions of all monomers over time\n",
    "    \n",
    "    \"\"\"\n",
    "    X = []\n",
    "    data = list_URIs(simdir)\n",
    "    #check if PBCbox was used\n",
    "    initArgs = load_hdf5_file(Path(simdir)/\"initArgs_0.h5\")\n",
    "    PBCbox = np.array(initArgs['PBCbox'])\n",
    "    if PBCbox.any():\n",
    "        boxsize = PBCbox\n",
    "    if start == 0:\n",
    "        starting_pos = load_hdf5_file(Path(simdir)/\"starting_conformation_0.h5\")['pos']\n",
    "        X.append(starting_pos)\n",
    "    for conformation in data[start:end:every_other]:\n",
    "        pos = load_URI(conformation)['pos']\n",
    "        if PBCbox.any() and wrap:\n",
    "            mults = np.floor(pos / boxsize[None, :])\n",
    "            pos = pos - mults * boxsize[None, :]\n",
    "            assert pos.min() >= 0\n",
    "        X.append(pos)\n",
    "    X = np.array(X)\n",
    "    return X\n",
    "\n",
    "def patched_particle_geom(f, R=1):\n",
    "    \"\"\" Distribute f residues on a sphere with equal angles.\"\"\"\n",
    "    \n",
    "    #first position is center particle\n",
    "    positions = [[0., 0., 0.]]\n",
    "    theta = np.pi/2\n",
    "    for i in range(min(f, 5)):\n",
    "        #for valency less than 5, just distribute points on a circle in the x-y plane\n",
    "        phi = 2 * np.pi * i / f\n",
    "        x = R * np.sin(theta) * np.cos(phi)\n",
    "        y = R * np.sin(theta) * np.sin(phi)\n",
    "        z = R * np.cos(theta)\n",
    "        positions.append([x, y, z])\n",
    "    \n",
    "    if f >=5:\n",
    "        #octahedron -> put 5th particle perpendicular to plain of 4 points\n",
    "        print(\"Have not implemented yet\")\n",
    "    return np.array(positions)\n",
    "\n",
    "#make a topology for this f+1-atom chain\n",
    "def mdtop_for_patched_particles(N, nchains, f, atom_names=\"XXX\"):\n",
    "    \"\"\"\n",
    "    Generate an mdtraj.Topology object for a single polymer of length N.\n",
    "\n",
    "    Parameters\n",
    "    ----------\n",
    "    N : int\n",
    "        total number of particles\n",
    "    nchains : int\n",
    "        number of tetramers\n",
    "    f : int\n",
    "        valency, i.e. number of patches\n",
    "    atom_names : string (up to 3 characters) or list of such\n",
    "        names for the atoms. This can be useful for labelling different types\n",
    "        of monomers, such as compartments. If given as list, should have length\n",
    "        N.\n",
    "\n",
    "    Notes\n",
    "    -----\n",
    "        - use iron as element to prevent NGLView from calculating bonds\n",
    "    \"\"\"\n",
    "\n",
    "    # Check that atom names are good\n",
    "    if isinstance(atom_names, str):\n",
    "        atom_names = [atom_names[:3] for _ in range(N)]\n",
    "    elif not isinstance(atom_names, list) or not len(atom_names) == N:\n",
    "        print(\"WARNING: atom_names should be a list of length N = {}. Using default.\" % N)\n",
    "        atom_names = [\"XXX\" for _ in range(N)]\n",
    "\n",
    "    # Generate topology\n",
    "    top = mdtraj.Topology()\n",
    "    resi = 0\n",
    "    for i in range(nchains):\n",
    "        ch = top.add_chain()\n",
    "        res = top.add_residue(\"{0:03d}\".format(resi // 10000), ch)\n",
    "        first_atom = top.add_atom(atom_names[resi], mdtraj.element.iron, res)\n",
    "        resi += 1\n",
    "        for k in range(f):\n",
    "            res = top.add_residue(\"{0:03d}\".format(resi // 10000), ch)\n",
    "            cur_atom = top.add_atom(atom_names[resi], mdtraj.element.iron, res)\n",
    "            top.add_bond(first_atom, cur_atom)\n",
    "            resi += 1\n",
    "    return top\n"
   ]
  },
  {
   "cell_type": "code",
   "execution_count": 5,
   "id": "352d0dc6",
   "metadata": {},
   "outputs": [],
   "source": [
    "DATADIR = Path('/net/levsha/share/deepti/simulations/protein_mobility')"
   ]
  },
  {
   "cell_type": "code",
   "execution_count": 37,
   "id": "01a94b9a",
   "metadata": {},
   "outputs": [],
   "source": [
    "def make_animation(f, E0, N=1000, vol_fraction=0.3):\n",
    "    Y = extract_trajectory(DATADIR/f\"N{N}_f{f}_E0{E0}_v{vol_fraction}\", wrap=False, \n",
    "                           start=0, end=1000, every_other=1)\n",
    "    print(Y.shape)\n",
    "    X = Y[-1]\n",
    "    print(X.shape)\n",
    "    N = int(Y.shape[1]/(f+1))\n",
    "    print(N)\n",
    "    print(X.shape)\n",
    "    atom_names = (['B'] + ['A']*f) * N\n",
    "    top = mdtop_for_patched_particles((f+1)*N, N, f, atom_names=atom_names)\n",
    "    view = ngu.xyz2nglview(X, top=top)\n",
    "    view.add_representation('ball+stick', selection='.A',\n",
    "                                                colorScheme='uniform',\n",
    "                                                colorValue=0xff4242, radius=0.15)\n",
    "    view.add_representation('ball+stick', selection='.B', colorScheme='uniform',\n",
    "                            colorValue=0x475FD0, radius=0.35)\n",
    "    view.add_unitcell()\n",
    "    return view"
   ]
  },
  {
   "cell_type": "code",
   "execution_count": 45,
   "id": "c8dc5c11",
   "metadata": {},
   "outputs": [
    {
     "name": "stdout",
     "output_type": "stream",
     "text": [
      "(1001, 3000, 3)\n",
      "(3000, 3)\n",
      "1000\n",
      "(3000, 3)\n"
     ]
    },
    {
     "data": {
      "application/vnd.jupyter.widget-view+json": {
       "model_id": "f1e44b67cbc7484583c562e7da942d71",
       "version_major": 2,
       "version_minor": 0
      },
      "text/plain": [
       "NGLWidget()"
      ]
     },
     "metadata": {},
     "output_type": "display_data"
    }
   ],
   "source": [
    "view = make_animation(2, 7.0)\n",
    "view"
   ]
  },
  {
   "cell_type": "code",
   "execution_count": null,
   "id": "db5e4bef",
   "metadata": {},
   "outputs": [],
   "source": []
  }
 ],
 "metadata": {
  "kernelspec": {
   "display_name": "polyvis",
   "language": "python",
   "name": "polyvis"
  },
  "language_info": {
   "codemirror_mode": {
    "name": "ipython",
    "version": 3
   },
   "file_extension": ".py",
   "mimetype": "text/x-python",
   "name": "python",
   "nbconvert_exporter": "python",
   "pygments_lexer": "ipython3",
   "version": "3.9.18"
  }
 },
 "nbformat": 4,
 "nbformat_minor": 5
}
